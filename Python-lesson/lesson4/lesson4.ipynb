{
 "cells": [
  {
   "cell_type": "markdown",
   "metadata": {},
   "source": [
    "### 从文件中读取数据\n",
    "将格式化的文件数据读取为naarray. \n",
    "1. 通过python读取文件，处理后转为多维数组\n",
    "2. numpy.loadtxt() #用numpy直接读取文本文件\n",
    "\n",
    "<font color=#FF69B4>numpy. loadtxt(filename,type,comments='#',delimiter=None, skiprow=0,usecols=None)    \n",
    "filename  是文件名 ； dtype 是读入数据的格式 ； comments = '#'  '#' 开头注释行就会跳过。    \n",
    "delemiter  行内数据的分隔符，空格的话numpy会自动判断 ； skiprows 跳过文件的前 (0) 行 ； usecols 只使用文本文件的(m-n)列数据,默认全部使用。 </font>   \n",
    "  \n",
    "https://www.cnblogs.com/hecc/p/8480532.html"
   ]
  },
  {
   "cell_type": "markdown",
   "metadata": {},
   "source": [
    "### Matplotlib \n",
    "1.语法简单    \n",
    "2.基本兼容matlab的绘图命令   \n",
    "<font color=#FF69B4>\n",
    "import numpy as np   \n",
    "from matplotlib import pyplot as plt   \n",
    "x = np.linspace(-4,4,100)   # -4 到 4 之间等分100作为x坐标   \n",
    "y = x*x     \n",
    "plt.title(\"d point in total\" %(len(y)))  # 图的标题   \n",
    "plt.xlabel(\"x\") #x的标签   \n",
    "plt.ylabel(\"y\")  # y 的标签   \n",
    "plt.plot(x*y) #绘制线形的函数，只需传入x和y的数据 \n",
    "plt.show()   # 显示图</font>   \n",
    "参考链接：   \n",
    "https://blog.csdn.net/The_lastest/article/details/79828638      \n",
    "https://www.runoob.com/numpy/numpy-matplotlib.html    \n",
    "https://mp.weixin.qq.com/s/vr-pURyPkH5gGzgysRhwQQ    \n",
    "\n",
    "\n",
    "\n",
    "\n"
   ]
  },
  {
   "cell_type": "markdown",
   "metadata": {},
   "source": [
    "### 绘制分段函数\n"
   ]
  },
  {
   "cell_type": "code",
   "execution_count": 1,
   "metadata": {},
   "outputs": [
    {
     "data": {
      "image/png": "[encoded data removed]",
      "text/plain": [
       "<Figure size 432x288 with 1 Axes>"
      ]
     },
     "metadata": {
      "needs_background": "light"
     },
     "output_type": "display_data"
    }
   ],
   "source": [
    "import matplotlib.pyplot as plt   # 引入pyplot 模块   \n",
    "import numpy as np     # 引入numpy 库   \n",
    "def func(x):  #函数1\n",
    "    return 5+2*x+3*x**2-0.5*x**3\n",
    "def fund(x):    #函数2\n",
    "    return 200-10*x\n",
    "x = np.linspace(-10,10,50)  #-10 到 10 之间等分50作为x坐标\n",
    "def min_Eform1(x):\n",
    "    return min(func(x),fund(x))\n",
    "ys = list(map(min_Eform1,x))  # 得到对应每个x的min(func(x),fund(x))\n",
    "\n",
    "yy = -1*x*10   #第二个y数据\n",
    "plt.plot(x,ys,ls='--',lw=2 ) #绘制线性图，虚线，线宽2\n",
    "plt.plot(x,yy,'-',lw=2)   #添加第二条线，直线，线宽2 注意是小写L\n",
    "plt.savefig('class4',dpi=300)  # 存储为class4.png \"\"\"\n",
    "plt.show()\n",
    "\n"
   ]
  },
  {
   "cell_type": "code",
   "execution_count": null,
   "metadata": {},
   "outputs": [],
   "source": [
    "#  38min"
   ]
  }
 ],
 "metadata": {
  "interpreter": {
   "hash": "f58d03b8bebbe62dda55d159063c14d8b4a3417437ea7f1ba8dfee47a6783067"
  },
  "kernelspec": {
   "display_name": "Python 3.8.2 32-bit",
   "language": "python",
   "name": "python3"
  },
  "language_info": {
   "codemirror_mode": {
    "name": "ipython",
    "version": 3
   },
   "file_extension": ".py",
   "mimetype": "text/x-python",
   "name": "python",
   "nbconvert_exporter": "python",
   "pygments_lexer": "ipython3",
   "version": "3.8.2"
  },
  "orig_nbformat": 4
 },
 "nbformat": 4,
 "nbformat_minor": 2
}
